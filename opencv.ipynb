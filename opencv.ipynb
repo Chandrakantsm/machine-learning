{
 "cells": [
  {
   "cell_type": "code",
   "execution_count": 12,
   "metadata": {},
   "outputs": [
    {
     "ename": "AttributeError",
     "evalue": "module 'cv2' has no attribute 'waitkey'",
     "output_type": "error",
     "traceback": [
      "\u001b[1;31m---------------------------------------------------------------------------\u001b[0m",
      "\u001b[1;31mAttributeError\u001b[0m                            Traceback (most recent call last)",
      "\u001b[1;32mc:\\Users\\User4\\Desktop\\machine learning\\opencv.ipynb Cell 1\u001b[0m in \u001b[0;36m<cell line: 5>\u001b[1;34m()\u001b[0m\n\u001b[0;32m      <a href='vscode-notebook-cell:/c%3A/Users/User4/Desktop/machine%20learning/opencv.ipynb#W0sZmlsZQ%3D%3D?line=1'>2</a>\u001b[0m image\u001b[39m=\u001b[39mcv\u001b[39m.\u001b[39mimread(\u001b[39m\"\u001b[39m\u001b[39mC:/Users/User4/Desktop/resume photo.jfif\u001b[39m\u001b[39m\"\u001b[39m)\n\u001b[0;32m      <a href='vscode-notebook-cell:/c%3A/Users/User4/Desktop/machine%20learning/opencv.ipynb#W0sZmlsZQ%3D%3D?line=3'>4</a>\u001b[0m cv\u001b[39m.\u001b[39mimshow(\u001b[39m\"\u001b[39m\u001b[39mdisplay window\u001b[39m\u001b[39m\"\u001b[39m,image)\n\u001b[1;32m----> <a href='vscode-notebook-cell:/c%3A/Users/User4/Desktop/machine%20learning/opencv.ipynb#W0sZmlsZQ%3D%3D?line=4'>5</a>\u001b[0m k\u001b[39m=\u001b[39mcv\u001b[39m.\u001b[39;49mwaitkey(\u001b[39m0\u001b[39m)\n",
      "\u001b[1;31mAttributeError\u001b[0m: module 'cv2' has no attribute 'waitkey'"
     ]
    }
   ],
   "source": [
    "import cv2 as cv\n",
    "image=cv.imread(\"C:/Users/User4/Desktop/resume photo.jfif\")\n",
    "\n",
    "cv.imshow(\"display window\",image)\n",
    "k=cv.waitkey(0)\n"
   ]
  }
 ],
 "metadata": {
  "kernelspec": {
   "display_name": "base",
   "language": "python",
   "name": "python3"
  },
  "language_info": {
   "codemirror_mode": {
    "name": "ipython",
    "version": 3
   },
   "file_extension": ".py",
   "mimetype": "text/x-python",
   "name": "python",
   "nbconvert_exporter": "python",
   "pygments_lexer": "ipython3",
   "version": "3.9.12"
  },
  "orig_nbformat": 4
 },
 "nbformat": 4,
 "nbformat_minor": 2
}
