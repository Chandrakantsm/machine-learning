{
 "cells": [
  {
   "cell_type": "code",
   "execution_count": 1,
   "metadata": {},
   "outputs": [
    {
     "name": "stdout",
     "output_type": "stream",
     "text": [
      "[111.84810783 277.32244686  -3.9839295  442.7967859  608.27112494\n",
      " 773.74546397]\n"
     ]
    },
    {
     "data": {
      "image/png": "[encoded data removed]",
      "text/plain": [
       "<Figure size 432x288 with 1 Axes>"
      ]
     },
     "metadata": {
      "needs_background": "light"
     },
     "output_type": "display_data"
    }
   ],
   "source": [
    "import numpy as np\n",
    "from sklearn.linear_model import LinearRegression\n",
    "from matplotlib import pyplot as plt\n",
    "\n",
    "# Sample data\n",
    "X = np.array([[100], [200], [30],[300], [400], [500]])\n",
    "y = np.array([90, 150, 35,390, 1000, 545])\n",
    "# Create a Linear Regression model \n",
    "model = LinearRegression()\n",
    "\n",
    "# Fit the model to the data\n",
    "model.fit(X, y)\n",
    "# Predict using the trained model\n",
    "X_test = np.array([[100], [200], [30],[300], [400], [500]])\n",
    "y_pred = model.predict(X_test)\n",
    "# Print the predicted values\n",
    "print(y_pred)\n",
    "\n",
    "#  plotting \n",
    "plt.scatter(X,y)\n",
    "plt.scatter(X_test,y_pred)\n",
    "plt.show()\n"
   ]
  },
  {
   "cell_type": "code",
   "execution_count": 2,
   "metadata": {},
   "outputs": [
    {
     "data": {
      "image/png": "[encoded data removed]",
      "text/plain": [
       "<Figure size 432x288 with 1 Axes>"
      ]
     },
     "metadata": {
      "needs_background": "light"
     },
     "output_type": "display_data"
    }
   ],
   "source": [
    "# importing matplotlib module\n",
    "from matplotlib import pyplot as plt\n",
    "# x -axis values\n",
    "x=[1,1,3,4]\n",
    "# y-axis values\n",
    "y=[1,2,3,8]\n",
    "#  function to plot \n",
    "plt.plot(x,y)\n",
    "# function to show the plot\n",
    "plt.show()"
   ]
  },
  {
   "cell_type": "code",
   "execution_count": 4,
   "metadata": {},
   "outputs": [
    {
     "name": "stdout",
     "output_type": "stream",
     "text": [
      "[1 1]\n"
     ]
    }
   ],
   "source": [
    "import numpy as np\n",
    "from sklearn.linear_model import LogisticRegression\n",
    "\n",
    "# Sample data\n",
    "X = np.array([[2, 3], [4, 5], [1, 2], [6, 7]])\n",
    "y = np.array([0, 1, 0, 1])\n",
    "\n",
    "# Create a Logistic Regression model\n",
    "model = LogisticRegression()\n",
    "\n",
    "# Fit the model to the data\n",
    "model.fit(X, y)\n",
    "\n",
    "# Predict using the trained model\n",
    "X_test = np.array([[5, 8], [5, 6]])\n",
    "y_pred = model.predict(X_test)\n",
    "\n",
    "# Print the predicted labels\n",
    "print(y_pred)\n"
   ]
  },
  {
   "cell_type": "code",
   "execution_count": 11,
   "metadata": {},
   "outputs": [
    {
     "name": "stdout",
     "output_type": "stream",
     "text": [
      "['dog' 'cat' 'dog' 'cat']\n"
     ]
    }
   ],
   "source": [
    "import numpy as np\n",
    "from sklearn.linear_model import LogisticRegression\n",
    "from sklearn.feature_extraction.text import CountVectorizer\n",
    "\n",
    "# Sample training data\n",
    "texts = [\"I love dogs\", \"I hate cats\", \"Dogs are great\", \"Cats are cute\"]\n",
    "labels = [\"dog\", \"cat\", \"dog\", \"cat\"]\n",
    "\n",
    "# Create a CountVectorizer to convert text into numerical features\n",
    "vectorizer = CountVectorizer()\n",
    "X = vectorizer.fit_transform(texts)\n",
    "\n",
    "# Create a Logistic Regression classifier\n",
    "model = LogisticRegression()\n",
    "\n",
    "# Fit the model to the data\n",
    "model.fit(X, labels)\n",
    "\n",
    "# Sample test data\n",
    "test_texts = [\"I adore dogs\", \"I dislike cats\",\"dogs walking\",\"lmn\"]\n",
    "X_test = vectorizer.transform(test_texts)\n",
    "\n",
    "# Predict the labels for the test data\n",
    "y_pred = model.predict(X_test)\n",
    "\n",
    "# Print the predicted labels\n",
    "print(y_pred)\n"
   ]
  },
  {
   "cell_type": "code",
   "execution_count": 3,
   "metadata": {},
   "outputs": [],
   "source": [
    "import torch\n",
    "import torch.nn as nn\n",
    "import torch.optim as optim\n",
    "import torch.nn.functional as F\n",
    "import os\n",
    "\n",
    "\n",
    "class LinearQNet(nn.Module):\n",
    "    \"\"\"\n",
    "    The (LinearQNet) model that will take an F.relu of inputs and make nn.Linear forward passes\n",
    "    \"\"\"\n",
    "    def __init__(self, input_size, hidden_size, output_size):\n",
    "        super().__init__()\n",
    "        self.linear1 = nn.Linear(input_size, hidden_size)\n",
    "        self.linear2 = nn.Linear(hidden_size, output_size)\n",
    "\n",
    "\n",
    "    def forward(self, x):\n",
    "        x = F.relu(self.linear1(x))\n",
    "        x = self.linear2(x)\n",
    "        return x\n",
    "\n",
    "    def save(self, filename='model.pth'):\n",
    "        \"\"\"\n",
    "        To save the model's state_dict.\n",
    "        \"\"\"\n",
    "        model_folder_path = './model'\n",
    "        if not os.path.exists(model_folder_path):\n",
    "            os.makedirs(model_folder_path)\n",
    "\n",
    "        filename = os.path.join(model_folder_path, filename)\n",
    "        # save the model's parameter estimates (state_dict())\n",
    "        torch.save(self.state_dict(), filename)\n",
    "\n",
    "\n",
    "class QTrainer:\n",
    "    \"\"\"\n",
    "    Trainer class that stores the arguments of model, learning rate, and gamma as attributes.\n",
    "    Also creates an optimizer for updating parameter gradients.\n",
    "    Also creates a loss function (mean-squared error).\n",
    "    \"\"\"\n",
    "    def __init__(self, model, lr, gamma):\n",
    "        # store arguments as attributes\n",
    "        self.model = model\n",
    "        self.lr = lr\n",
    "        self.gamma = gamma\n",
    "\n",
    "        # create optimizer\n",
    "        self.optimizer = optim.Adam(model.parameters(), lr=self.lr)\n",
    "\n",
    "        # create mean-squared error loss function\n",
    "        self.criterion = nn.MSELoss(reduction='mean')\n",
    "\n",
    "    def train_step(self, state, action, reward, next_state, done):\n",
    "        \"\"\"\n",
    "        Makes a forward pass through the model and updates the gradients.\n",
    "        \"\"\"\n",
    "        # storing arguments as torch.tensor objects\n",
    "        state = torch.tensor(state, dtype=torch.float)\n",
    "        action = torch.tensor(action, dtype=torch.long)\n",
    "        reward = torch.tensor(reward, dtype=torch.float)\n",
    "        next_state = torch.tensor(next_state, dtype=torch.float)\n",
    "\n",
    "        # reduces the dimension of the state matrix if necessary\n",
    "        if len(state.shape) == 1:\n",
    "            state = torch.unsqueeze(state, 0)\n",
    "            action = torch.unsqueeze(action, 0)\n",
    "            reward = torch.unsqueeze(reward, 0)\n",
    "            next_state = torch.unsqueeze(next_state, 0)\n",
    "            done = (done, )  # define as tuple with 1 value\n",
    "\n",
    "        # 1: predicted Q values with current state\n",
    "        pred = self.model(state)\n",
    "        target = pred.clone()\n",
    "\n",
    "        # 2: Q_new = r + y * max(next predicted Q value)\n",
    "        for idx in range(len(done)):\n",
    "            Q_new = reward[idx]\n",
    "            if not done[idx]:\n",
    "                Q_new = reward[idx] + self.gamma * torch.max(self.model(next_state[idx]))\n",
    "\n",
    "            target[idx][torch.argmax(action).item()] = Q_new\n",
    "\n",
    "        # compute the loss, calculate gradients, and update gradients\n",
    "        self.optimizer.zero_grad()\n",
    "        loss = self.criterion(target, pred)\n",
    "        loss.backward()\n",
    "        self.optimizer.step()"
   ]
  },
  {
   "cell_type": "code",
   "execution_count": 8,
   "metadata": {},
   "outputs": [
    {
     "name": "stdout",
     "output_type": "stream",
     "text": [
      "coefficient of detremination 0.5417910447761193\n",
      "intercept 4.026666666666667\n",
      "slope [0.44]\n",
      "predicted responce\n",
      "[ 6.66666667 11.06666667 15.46666667 19.86666667 24.26666667 28.66666667]\n"
     ]
    }
   ],
   "source": [
    "import numpy as np\n",
    "from sklearn.linear_model import LinearRegression\n",
    "from matplotlib import pyplot as plt\n",
    "\n",
    "# Sample data\n",
    "X = np.array([6,16,26,36,46,56]).reshape(-1,1)\n",
    "y = np.array([4,23,10,12,22,35])\n",
    "# Create a Linear Regression model \n",
    "model = LinearRegression()\n",
    "\n",
    "# Fit the model to the data\n",
    "model.fit(X, y)\n",
    "\n",
    "r_sq=model.score(X,y)\n",
    "print(\"coefficient of detremination\",r_sq)\n",
    "print(\"intercept\",model.intercept_)\n",
    "print(\"slope\",model.coef_)\n",
    "\n",
    "y_pred=model.predict(X)\n",
    "print(\"predicted responce\",y_pred,sep=\"\\n\")\n",
    "\n"
   ]
  },
  {
   "cell_type": "code",
   "execution_count": 24,
   "metadata": {},
   "outputs": [
    {
     "name": "stdout",
     "output_type": "stream",
     "text": [
      "Value of the oefficients: \n",
      " [875.72247876]\n",
      "Mean square error: 4254.6024288776425\n",
      "Coefficient of determination: 0.3276195356900221\n"
     ]
    },
    {
     "data": {
      "image/png": "[encoded data removed]",
      "text/plain": [
       "<Figure size 432x288 with 1 Axes>"
      ]
     },
     "metadata": {
      "needs_background": "light"
     },
     "output_type": "display_data"
    }
   ],
   "source": [
    "# Python code on sklearn linear regression example  \n",
    "  \n",
    "# Importing required libraries  \n",
    "import numpy as np  \n",
    "import matplotlib.pyplot as plt  \n",
    "from sklearn.datasets import load_diabetes  \n",
    "from sklearn.linear_model import LinearRegression  \n",
    "from sklearn.model_selection import train_test_split  \n",
    "from sklearn.metrics import mean_squared_error, r2_score  \n",
    "  \n",
    "# Loading the sklearn diabetes dataset  \n",
    "X, Y = load_diabetes(return_X_y=True)  \n",
    "  \n",
    "# Taking only one feature to perform simple linear regression  \n",
    "X = X[:,8].reshape(-1,1)  \n",
    "  \n",
    "# Splitting the dependent and independent features of the dataset into training and testing dataset  \n",
    "X_train, X_test, Y_train, Y_test = train_test_split( X, Y, test_size = 0.3, random_state = 10 )  \n",
    "  \n",
    "# Creating an instance for the linear regression model of sklearn  \n",
    "lr =LinearRegression()  \n",
    "  \n",
    "# Training the model by passing the dependent and independent features of the training dataset  \n",
    "lr.fit( X_train, Y_train )  \n",
    "  \n",
    "# Creating an array of predictions made by the model for the unseen or test dataset  \n",
    "Y_pred = lr.predict( X_test )  \n",
    "  \n",
    "# The value of the coefficients for the independent feature through the multiple regression model  \n",
    "print(\"Value of the Coefficients: \\n\", lr.coef_)  \n",
    "  \n",
    "# The value of the mean squared error  \n",
    "print(f\"Mean square error: {mean_squared_error( Y_test, Y_pred)}\")  \n",
    "  \n",
    "# The value of the coefficient of determination, i.e., R-square score of the model  \n",
    "print(f\"Coefficient of determination: {r2_score( Y_test, Y_pred )}\")  \n",
    "  \n",
    "# Plotting the output  \n",
    "plt.scatter(X_test, Y_test, color = \"black\", label = \"original data\")  \n",
    "plt.scatter(X_train, Y_train, color = \"m\", label = \"original data\") \n",
    "plt.plot(X_test, Y_pred, color = \"blue\", linewidth=3, label = \"regression line\")  \n",
    "plt.xlabel(\"Independent Feature\")  \n",
    "plt.ylabel(\"Target Values\")  \n",
    "plt.title(\"Simple Linear Regression\")  \n",
    "plt.show()"
   ]
  },
  {
   "cell_type": "code",
   "execution_count": 12,
   "metadata": {},
   "outputs": [
    {
     "name": "stdout",
     "output_type": "stream",
     "text": [
      "                 Job Title Employment Type Experience Level Expertise Level   \n",
      "3299  Data Science Manager       Full-Time           Senior          Expert  \\\n",
      "\n",
      "       Salary Salary Currency Company Location  Salary in USD   \n",
      "3299  7000000    Indian Rupee            India          94665  \\\n",
      "\n",
      "     Employee Residence Company Size  Year  \n",
      "3299              India        Large  2021  \n"
     ]
    }
   ],
   "source": [
    "import numpy as np\n",
    "import pandas as pd\n",
    "import matplotlib.pyplot as plt \n",
    " \n",
    "\n",
    "data = pd.read_csv(\"C:/Users/User4/Desktop/excels/Latest_Data_Science_Salaries.csv\")\n",
    "print(data.tail(1))"
   ]
  },
  {
   "cell_type": "code",
   "execution_count": null,
   "metadata": {},
   "outputs": [],
   "source": []
  }
 ],
 "metadata": {
  "kernelspec": {
   "display_name": "base",
   "language": "python",
   "name": "python3"
  },
  "language_info": {
   "codemirror_mode": {
    "name": "ipython",
    "version": 3
   },
   "file_extension": ".py",
   "mimetype": "text/x-python",
   "name": "python",
   "nbconvert_exporter": "python",
   "pygments_lexer": "ipython3",
   "version": "3.9.12"
  },
  "orig_nbformat": 4
 },
 "nbformat": 4,
 "nbformat_minor": 2
}
