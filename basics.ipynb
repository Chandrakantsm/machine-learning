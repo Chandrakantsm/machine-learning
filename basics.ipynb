{
 "cells": [
  {
   "cell_type": "code",
   "execution_count": 5,
   "metadata": {},
   "outputs": [
    {
     "name": "stdout",
     "output_type": "stream",
     "text": [
      "[ 97.88439606 216.4536029   14.88595127 335.02280975 453.59201659\n",
      " 572.16122343]\n"
     ]
    },
    {
     "data": {
      "image/png": "[encoded data removed]",
      "text/plain": [
       "<Figure size 432x288 with 1 Axes>"
      ]
     },
     "metadata": {
      "needs_background": "light"
     },
     "output_type": "display_data"
    }
   ],
   "source": [
    "import numpy as np\n",
    "from sklearn.linear_model import LinearRegression\n",
    "from matplotlib import pyplot as plt\n",
    "# Sample data\n",
    "X = np.array([[100], [200], [30],[300], [400], [500]])\n",
    "y = np.array([90, 150, 35,390, 480, 545])\n",
    "# Create a Linear Regression model \n",
    "model = LinearRegression()\n",
    "# Fit the model to the data\n",
    "model.fit(X, y)\n",
    "# Predict using the trained model\n",
    "X_test = np.array([[100], [200], [30],[300], [400], [500]])\n",
    "y_pred = model.predict(X_test)\n",
    "# Print the predicted values\n",
    "print(y_pred)\n",
    "\n",
    "#  plotting \n",
    "plt.scatter(X,y)\n",
    "plt.scatter(X_test,y_pred)\n",
    "plt.show()\n"
   ]
  },
  {
   "cell_type": "code",
   "execution_count": 2,
   "metadata": {},
   "outputs": [
    {
     "data": {
      "image/png": "[encoded data removed]",
      "text/plain": [
       "<Figure size 432x288 with 1 Axes>"
      ]
     },
     "metadata": {
      "needs_background": "light"
     },
     "output_type": "display_data"
    }
   ],
   "source": [
    "# importing matplotlib module\n",
    "from matplotlib import pyplot as plt\n",
    "# x -axis values\n",
    "x=[1,1,3,4]\n",
    "# y-axis values\n",
    "y=[1,2,3,8]\n",
    "#  function to plot \n",
    "plt.plot(x,y)\n",
    "# function to show the plot\n",
    "plt.show()"
   ]
  },
  {
   "cell_type": "code",
   "execution_count": 21,
   "metadata": {},
   "outputs": [
    {
     "name": "stdout",
     "output_type": "stream",
     "text": [
      "[0 1]\n"
     ]
    }
   ],
   "source": [
    "import numpy as np\n",
    "from sklearn.linear_model import LogisticRegression\n",
    "\n",
    "# Sample data\n",
    "X = np.array([[2, 3], [4, 5], [1, 2], [6, 7]])\n",
    "y = np.array([0, 1, 0, 1])\n",
    "\n",
    "# Create a Logistic Regression model\n",
    "model = LogisticRegression()\n",
    "\n",
    "# Fit the model to the data\n",
    "model.fit(X, y)\n",
    "\n",
    "# Predict using the trained model\n",
    "X_test = np.array([[3, 4], [5, 6]])\n",
    "y_pred = model.predict(X_test)\n",
    "\n",
    "# Print the predicted labels\n",
    "print(y_pred)\n"
   ]
  }
 ],
 "metadata": {
  "kernelspec": {
   "display_name": "base",
   "language": "python",
   "name": "python3"
  },
  "language_info": {
   "codemirror_mode": {
    "name": "ipython",
    "version": 3
   },
   "file_extension": ".py",
   "mimetype": "text/x-python",
   "name": "python",
   "nbconvert_exporter": "python",
   "pygments_lexer": "ipython3",
   "version": "3.9.12"
  },
  "orig_nbformat": 4
 },
 "nbformat": 4,
 "nbformat_minor": 2
}
