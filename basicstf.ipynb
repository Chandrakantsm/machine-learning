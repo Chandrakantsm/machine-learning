{
 "cells": [
  {
   "cell_type": "code",
   "execution_count": 22,
   "metadata": {},
   "outputs": [
    {
     "name": "stdout",
     "output_type": "stream",
     "text": [
      "Downloading data from https://storage.googleapis.com/tensorflow/tf-keras-datasets/mnist.npz\n",
      "11490434/11490434 [==============================] - 2s 0us/step\n",
      "Epoch 1/10\n",
      "1875/1875 [==============================] - 19s 9ms/step - loss: 0.1506 - accuracy: 0.9532 - val_loss: 0.0465 - val_accuracy: 0.9854\n",
      "Epoch 2/10\n",
      "1875/1875 [==============================] - 16s 9ms/step - loss: 0.0464 - accuracy: 0.9855 - val_loss: 0.0374 - val_accuracy: 0.9876\n",
      "Epoch 3/10\n",
      "1875/1875 [==============================] - 16s 9ms/step - loss: 0.0326 - accuracy: 0.9898 - val_loss: 0.0305 - val_accuracy: 0.9900\n",
      "Epoch 4/10\n",
      "1875/1875 [==============================] - 16s 9ms/step - loss: 0.0255 - accuracy: 0.9916 - val_loss: 0.0347 - val_accuracy: 0.9893\n",
      "Epoch 5/10\n",
      "1875/1875 [==============================] - 16s 8ms/step - loss: 0.0196 - accuracy: 0.9933 - val_loss: 0.0341 - val_accuracy: 0.9907\n",
      "Epoch 6/10\n",
      "1875/1875 [==============================] - 16s 8ms/step - loss: 0.0159 - accuracy: 0.9951 - val_loss: 0.0260 - val_accuracy: 0.9924\n",
      "Epoch 7/10\n",
      "1875/1875 [==============================] - 16s 8ms/step - loss: 0.0135 - accuracy: 0.9955 - val_loss: 0.0368 - val_accuracy: 0.9901\n",
      "Epoch 8/10\n",
      "1875/1875 [==============================] - 16s 9ms/step - loss: 0.0121 - accuracy: 0.9961 - val_loss: 0.0383 - val_accuracy: 0.9904\n",
      "Epoch 9/10\n",
      "1875/1875 [==============================] - 16s 8ms/step - loss: 0.0095 - accuracy: 0.9970 - val_loss: 0.0358 - val_accuracy: 0.9911\n",
      "Epoch 10/10\n",
      "1875/1875 [==============================] - 16s 8ms/step - loss: 0.0086 - accuracy: 0.9972 - val_loss: 0.0306 - val_accuracy: 0.9934\n",
      "313/313 [==============================] - 1s 2ms/step - loss: 0.0306 - accuracy: 0.9934\n",
      "Test accuracy: 0.993399977684021\n"
     ]
    },
    {
     "data": {
      "image/png": "[encoded data removed]",
      "text/plain": [
       "<Figure size 432x288 with 1 Axes>"
      ]
     },
     "metadata": {
      "needs_background": "light"
     },
     "output_type": "display_data"
    }
   ],
   "source": [
    "\n",
    "import numpy as np\n",
    "import tensorflow as tf\n",
    "from tensorflow.keras import datasets, layers, models\n",
    "import matplotlib.pyplot as plt\n",
    "\n",
    "# Load the MNIST dataset\n",
    "(train_images, train_labels), (test_images, test_labels) = datasets.mnist.load_data()\n",
    "\n",
    "# Normalize the pixel values to range [0, 1]\n",
    "train_images, test_images = train_images / 255.0, test_images / 255.0\n",
    "\n",
    "# Add a channel dimension to the images (required for CNN input)\n",
    "train_images = np.expand_dims(train_images, axis=-1)\n",
    "test_images = np.expand_dims(test_images, axis=-1)\n",
    "\n",
    "# Convert labels to one-hot encoded vectors\n",
    "train_labels = tf.keras.utils.to_categorical(train_labels, num_classes=10)\n",
    "test_labels = tf.keras.utils.to_categorical(test_labels, num_classes=10)\n",
    "\n",
    "\n",
    "model = models.Sequential([\n",
    "    layers.Conv2D(32, (3, 3), activation='relu', input_shape=(28, 28, 1)),\n",
    "    layers.MaxPooling2D((2, 2)),\n",
    "    layers.Conv2D(64, (3, 3), activation='relu'),\n",
    "    layers.MaxPooling2D((2, 2)),\n",
    "    layers.Conv2D(64, (3, 3), activation='relu'),\n",
    "    layers.Flatten(),\n",
    "    layers.Dense(64, activation='relu'),\n",
    "    layers.Dense(10, activation='softmax')\n",
    "])\n",
    "\n",
    "\n",
    "model.compile(optimizer='adam',\n",
    "              loss='categorical_crossentropy',\n",
    "              metrics=['accuracy'])\n",
    "\n",
    "\n",
    "history = model.fit(train_images, train_labels, epochs=10, batch_size=32, validation_data=(test_images, test_labels))\n",
    "\n",
    "test_loss, test_acc = model.evaluate(test_images, test_labels)\n",
    "print(\"Test accuracy:\", test_acc)\n",
    "\n",
    "plt.plot(history.history['accuracy'], label='Training Accuracy')\n",
    "plt.plot(history.history['val_accuracy'], label='Validation Accuracy')\n",
    "plt.xlabel('Epoch')\n",
    "plt.ylabel('Accuracy')\n",
    "plt.legend(loc='lower right')\n",
    "plt.show()\n",
    "\n"
   ]
  }
 ],
 "metadata": {
  "kernelspec": {
   "display_name": "base",
   "language": "python",
   "name": "python3"
  },
  "language_info": {
   "codemirror_mode": {
    "name": "ipython",
    "version": 3
   },
   "file_extension": ".py",
   "mimetype": "text/x-python",
   "name": "python",
   "nbconvert_exporter": "python",
   "pygments_lexer": "ipython3",
   "version": "3.9.12"
  },
  "orig_nbformat": 4
 },
 "nbformat": 4,
 "nbformat_minor": 2
}
